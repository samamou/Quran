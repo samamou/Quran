{
  "nbformat": 4,
  "nbformat_minor": 0,
  "metadata": {
    "colab": {
      "name": "TextWrapping_Images_PIL.ipynb",
      "provenance": [],
      "collapsed_sections": [],
      "include_colab_link": true
    },
    "kernelspec": {
      "name": "python3",
      "display_name": "Python 3"
    },
    "language_info": {
      "name": "python"
    }
  },
  "cells": [
    {
      "cell_type": "markdown",
      "metadata": {
        "id": "view-in-github",
        "colab_type": "text"
      },
      "source": [
        "<a href=\"https://colab.research.google.com/github/samamou/Quran/blob/main/TextWrapping_Images_PIL.ipynb\" target=\"_parent\"><img src=\"https://colab.research.google.com/assets/colab-badge.svg\" alt=\"Open In Colab\"/></a>"
      ]
    },
    {
      "cell_type": "markdown",
      "metadata": {
        "id": "gmL7m9uJ-qLq"
      },
      "source": [
        "# Putting text on images using PIL and Python 💯\n",
        "\n",
        "\n",
        "> ### 1. Make sure to edit the width of the font (where it should start, and the hright)  \n",
        "> ### 2. TODO: pull images and fonts from a github repo \n",
        "\n",
        "#### Press the green button in the gutter to run the script.\n"
      ]
    },
    {
      "cell_type": "markdown",
      "metadata": {
        "id": "JhbwCKsV5sfR"
      },
      "source": [
        "https://github.com/samamou/Quran/blob/main/TextWrapping_Images_PIL.ipynb\n"
      ]
    },
    {
      "cell_type": "code",
      "metadata": {
        "colab": {
          "base_uri": "https://localhost:8080/"
        },
        "id": "detVehrf_iuN",
        "outputId": "e710bed4-af7e-4ea3-91ff-fc3e4edc478b"
      },
      "source": [
        "#install PIL library\n",
        "!pip install pillow\n",
        "# !pip install Wand\n",
        "# ! apt-get install libmagickwand-dev"
      ],
      "execution_count": 294,
      "outputs": [
        {
          "output_type": "stream",
          "name": "stdout",
          "text": [
            "Requirement already satisfied: pillow in /usr/local/lib/python3.7/dist-packages (7.1.2)\n"
          ]
        }
      ]
    },
    {
      "cell_type": "code",
      "metadata": {
        "id": "jtWTx8hC2dyM"
      },
      "source": [
        "# Importing the PIL library\n",
        "from PIL import Image, ImageFont, ImageDraw\n",
        "import textwrap\n",
        "from string import ascii_letters\n"
      ],
      "execution_count": null,
      "outputs": []
    },
    {
      "cell_type": "code",
      "metadata": {
        "id": "ynR2Ez071cGv"
      },
      "source": [
        "def draw_multiple_line_text(image, text, font, text_color, text_start_height):\n",
        "    '''\n",
        "    From unutbu on [python PIL draw multiline text on image](https://stackoverflow.com/a/7698300/395857)\n",
        "    '''\n",
        "    draw = ImageDraw.Draw(image)\n",
        "    image_width, image_height = image.size\n",
        "    y_text = text_start_height\n",
        "    lines = textwrap.wrap(text, width=25) ## MAKE THIS A PARAM\n",
        "    for line in lines:\n",
        "        line_width, line_height = font.getsize(line)\n",
        "        draw.text(((image_width - line_width) / 2, y_text), \n",
        "                  line, font=font, fill=text_color)\n",
        "        y_text += line_height\n",
        "\n",
        "\n",
        "\n",
        "def main():\n",
        "    '''\n",
        "    Testing draw_multiple_line_text\n",
        "    '''\n",
        "    #image_width\n",
        "    # image = Image.new('RGB', (800, 600), color = (0, 0, 0))\n",
        "    image = Image.open(\"border.png\")\n",
        "\n",
        "    fontsize = 30  # starting font size\n",
        "    font = ImageFont.truetype(\"/content/PlayfairDisplay-Regular.ttf\", fontsize)\n",
        "    text1 = \"Lorem Ipsum is simply dummy text of the printing and typesetting industry. Lorem Ipsum has been the industry's standard dummy text ever since the 1500s, when an unknown printer took a galley of type and scrambled it to make a type specimen book. It has survived not only five centuries, but also the leap into electronic typesetting, remaining essentially unchanged. It was popularised in the 1960s with the release of Letraset sheets containing Lorem Ipsum passages, and more recently with desktop publishing software like Aldus PageMaker including versions of Lorem Ipsum.\"\n",
        "    text2 = \"You could use textwrap.wrap to break text into a list of strings, each at most width characters long\"\n",
        "\n",
        "    text_color = (000, 000, 000)\n",
        "\n",
        "    ##### EDIT THIS START HEIGHT ####\n",
        "    text_start_height = 150\n",
        "    draw_multiple_line_text(image, text1, font, text_color, text_start_height)\n",
        "    draw_multiple_line_text(image, text2, font, text_color, 400)\n",
        "    image.save('pil_text.png')\n",
        "    \n",
        "\n",
        "if __name__ == \"__main__\":\n",
        "    main()\n",
        "    #cProfile.run('main()') # if you want to do some profiling"
      ],
      "execution_count": null,
      "outputs": []
    },
    {
      "cell_type": "code",
      "metadata": {
        "id": "_KBn2aMvLeH9",
        "colab": {
          "base_uri": "https://localhost:8080/",
          "height": 305
        },
        "outputId": "3184713d-d05e-4df4-8a15-66b17b05ff3e"
      },
      "source": [
        "def main():\n",
        "\n",
        "class TextWrapper(object):\n",
        "    \"\"\"\n",
        "    A class to provide basic text-wrapping functionality such\n",
        "    that custom fonts, font-sizes, and texts can be overlaid on\n",
        "    images in a flexible manner. Uses the standard textwrap library\n",
        "    and the Pillow library.\n",
        "    \"\"\"\n",
        "\n",
        "    def __init__(self, image: Image, text: str, font: ImageFont):\n",
        "        self.image = image\n",
        "        self.text = text\n",
        "        self.font = font\n",
        "        self.draw = ImageDraw.Draw(im=self.image)\n",
        "\n",
        "    \n",
        "    def scaled_text_wrap(text: str, width: int or float, font: ImageFont) -> str:\n",
        "        \"\"\"\n",
        "        Creates a text wrapped string to fit within a specified width by\n",
        "        calculating the average width of a character and converting that\n",
        "        to a maximum number of characters to be used with Pythons\n",
        "        textwrap.fill() function.\n",
        "        Args:\n",
        "            text: The string of text to which the wrapping effect is\n",
        "             to be applied\n",
        "            width: The width, as an integer pixel value, for the\n",
        "             maximum line to span.\n",
        "            font: The ImageFont object from which our average character\n",
        "             length measure is derived.\n",
        "        Returns:\n",
        "            A string split into lines of a <width> maximum length scaled\n",
        "        \"\"\"\n",
        "        # Calculates the average character width of a font to translate\n",
        "        # to a max character count such that the textwrap.fill's width\n",
        "        # argument can be appropriately used.\n",
        "        avg_char_width = sum(font.getsize(char)[0]\n",
        "                             for char in ascii_letters) / len(ascii_letters)\n",
        "\n",
        "        return textwrap.fill(text=text, width=int(width / avg_char_width))\n",
        "\n",
        "    def wrap_text(self, width: int, position: tuple = None,\n",
        "                  color: str = \"#ffffff\", anchor: str = 'mm'):\n",
        "        \"\"\"\n",
        "        Adds text to the image located at the <position> argument as x, y\n",
        "        image-relative pixel coordinates. Text color is set via the <color>\n",
        "        argument which can take a hexadecimal value or verbose color name\n",
        "        specified by the Pillow TextDraw module. The text is positioned via\n",
        "        the anchor argument that signifies the desired position relative\n",
        "        to ImageDraw text anchor parameters.\n",
        "        References:\n",
        "            color:  https://pillow.readthedocs.io/en/stable/reference/ImageColor.html#color-names\n",
        "            anchor: https://pillow.readthedocs.io/en/stable/handbook/text-anchors.html\n",
        "        Args:\n",
        "            width: int value representing maximum pixel width at which\n",
        "             to wrap the text.\n",
        "            position: x,y tuple coordinates in pixel value for text placement\n",
        "            color: str argument for text color\n",
        "            anchor: str argument for text placement relative to position\n",
        "        \"\"\"\n",
        "        # Restrict max image width to image width\n",
        "        if width > int(self.image).size[0]:\n",
        "            width = int(self.image).size[0]\n",
        "\n",
        "        # Center text to image unless otherwise specified\n",
        "        if not position:\n",
        "            position = int(self.image.size[0] / 2, self.image.size[1] / 2)\n",
        "\n",
        "        # Draw a scaled version of the text on the image\n",
        "        self.draw(\n",
        "            xy=(position[0], position[1]),\n",
        "            text=self.scaled_text_wrap(text=self.text, width=width, font=self.font),\n",
        "            font=self.font,\n",
        "            fill=color,\n",
        "            anchor=anchor\n",
        "        )\n",
        "\n",
        "    def show(self, **kwargs):\n",
        "        \"\"\"\n",
        "        Convenience wrapper for the Image object's show() method. Displays\n",
        "        the current image state via system standard photo viewer.\n",
        "        \"\"\"\n",
        "        self.image.show(kwargs)\n",
        "\n",
        "    def save(self, filepath: str, **kwargs):\n",
        "        \"\"\"\n",
        "        Convenience function for the Image object's save() method. Saves\n",
        "        the current image state to a specified filepath location.\n",
        "        Args:\n",
        "            filepath: str filepath to which the image is saved.\n",
        "        \"\"\"\n",
        "        self.image.save(filepath, kwargs)\n",
        "\n",
        "if __name__ == \"__main__\":\n",
        "\n",
        "    main()\n"
      ],
      "execution_count": null,
      "outputs": [
        {
          "output_type": "error",
          "ename": "TypeError",
          "evalue": "ignored",
          "traceback": [
            "\u001b[0;31m---------------------------------------------------------------------------\u001b[0m",
            "\u001b[0;31mTypeError\u001b[0m                                 Traceback (most recent call last)",
            "\u001b[0;32m<ipython-input-94-9dc02773e983>\u001b[0m in \u001b[0;36m<module>\u001b[0;34m()\u001b[0m\n\u001b[1;32m    131\u001b[0m \u001b[0;32mif\u001b[0m \u001b[0m__name__\u001b[0m \u001b[0;34m==\u001b[0m \u001b[0;34m\"__main__\"\u001b[0m\u001b[0;34m:\u001b[0m\u001b[0;34m\u001b[0m\u001b[0;34m\u001b[0m\u001b[0m\n\u001b[1;32m    132\u001b[0m \u001b[0;34m\u001b[0m\u001b[0m\n\u001b[0;32m--> 133\u001b[0;31m     \u001b[0mmain\u001b[0m\u001b[0;34m(\u001b[0m\u001b[0;34m)\u001b[0m\u001b[0;34m\u001b[0m\u001b[0;34m\u001b[0m\u001b[0m\n\u001b[0m",
            "\u001b[0;32m<ipython-input-94-9dc02773e983>\u001b[0m in \u001b[0;36mmain\u001b[0;34m()\u001b[0m\n\u001b[1;32m     28\u001b[0m   TextWrapper(Image.open(fp='border.png', mode='r'),  \"Simplicity--the art of maximizing the amount of work not done--is essential.\", \n\u001b[1;32m     29\u001b[0m               ImageFont.truetype(font='/content/PlayfairDisplay-Regular.ttf', \n\u001b[0;32m---> 30\u001b[0;31m               size=80)).save()\n\u001b[0m\u001b[1;32m     31\u001b[0m \u001b[0;34m\u001b[0m\u001b[0m\n\u001b[1;32m     32\u001b[0m   \u001b[0;31m# TextWrapper.wrap_text('', (0,0), '#000000', 'mm')\u001b[0m\u001b[0;34m\u001b[0m\u001b[0;34m\u001b[0m\u001b[0;34m\u001b[0m\u001b[0m\n",
            "\u001b[0;31mTypeError\u001b[0m: save() missing 1 required positional argument: 'filepath'"
          ]
        }
      ]
    },
    {
      "cell_type": "code",
      "metadata": {
        "id": "6nXYdC05uyOH"
      },
      "source": [
        "# Open image\n",
        "img = Image.open(fp='border.png', mode='r')\n",
        "\n",
        "# Load custom font\n",
        "font = ImageFont.truetype(font='PlayfairDisplay-Regular.ttf', size=50)\n",
        "\n",
        "# Create DrawText object\n",
        "draw = ImageDraw.Draw(im=img)\n",
        "\n",
        "# Define our text\n",
        "text = \"\"\" Ipsum a galley  remaining essentially unchanged. It was popularised in the 1960s with the release of Letraset sheets containing Lorem Ipsum passages, and more recently with desktop publishing software like Aldus PageMaker including versions of Lorem Ipsum.\"\"\"\n",
        "\n",
        "# Calculate the average length of a single character of our font.\n",
        "# Note: this takes into account the specific font and font size.\n",
        "avg_char_width = sum(font.getsize(char)[0] for char in ascii_letters) / len(ascii_letters)\n",
        "\n",
        "# Translate this average length into a character count\n",
        "max_char_count = int(img.size[0] * .80 / avg_char_width)\n",
        "\n",
        "# Create a wrapped text object using scaled character count\n",
        "text = textwrap.fill(text=text, width=max_char_count)\n",
        "\n",
        "# Add text to the image\n",
        "draw.text(xy=(img.size[0]/5, img.size[1] / 6), text=text, font=font, fill='#000000', anchor='m')\n",
        "\n",
        "# view the result\n",
        "img.save('hi.png')"
      ],
      "execution_count": null,
      "outputs": []
    },
    {
      "cell_type": "markdown",
      "metadata": {
        "id": "F8lvqieS-kU5"
      },
      "source": [
        ""
      ]
    },
    {
      "cell_type": "code",
      "metadata": {
        "id": "7Ygj12Px2HM9"
      },
      "source": [
        "#!/usr/bin/env python3\n",
        "\n",
        "from wand.image import Image\n",
        "from wand.drawing import Drawing\n",
        "from wand.font import Font\n",
        "from wand.color import Color\n",
        "\n",
        "# Create a red canvas 600x300\n",
        "# with Image(width=600, height=300, pseudo='xc:red') as canvas:\n",
        "#     left, top, width, height = 10, 20, 400, 150\n",
        "\n",
        "with Image(filename=\"border2.png\") as background:\n",
        "    background.format = 'png'\n",
        "    left, top, width, height = 200, 200, 465, 890\n",
        "    with Drawing() as context:\n",
        "        context.fill_color = 'white'\n",
        "        context.background_color = Color('white')\n",
        "        context.stroke_color = Color('white')\n",
        "        context.font_style = 'italic'\n",
        "        context.rectangle(left=left, top=top, width=width, height=height)\n",
        "        font = Font('PlayfairDisplay-Regular.ttf')\n",
        "        context(background)\n",
        "        # background.caption('Considerably longer text that will need a smaller font and some wrapping tooConsiderably longer text that will need a smaller font and some wrapping tooConsiderably longer text that will need a smaller font and some wrapping tooConsiderably longer text that will need a smaller font and some wrapping too', left=left, top=top, width=width, height=height, font=font, gravity='center')\n",
        "        background.caption('Not very long text just a few words hehe this is automatic', left=left, top=top, width=width, height=height, font=font, gravity='center')\n",
        "    background.save(filename='result.png')\n",
        "\n"
      ],
      "execution_count": 295,
      "outputs": []
    }
  ]
}