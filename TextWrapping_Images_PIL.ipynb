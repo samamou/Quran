{
  "nbformat": 4,
  "nbformat_minor": 0,
  "metadata": {
    "colab": {
      "name": "TextWrapping_Images_PIL.ipynb",
      "provenance": [],
      "collapsed_sections": [],
      "include_colab_link": true
    },
    "kernelspec": {
      "name": "python3",
      "display_name": "Python 3"
    },
    "language_info": {
      "name": "python"
    }
  },
  "cells": [
    {
      "cell_type": "markdown",
      "metadata": {
        "id": "view-in-github",
        "colab_type": "text"
      },
      "source": [
        "<a href=\"https://colab.research.google.com/github/samamou/Quran/blob/main/TextWrapping_Images_PIL.ipynb\" target=\"_parent\"><img src=\"https://colab.research.google.com/assets/colab-badge.svg\" alt=\"Open In Colab\"/></a>"
      ]
    },
    {
      "cell_type": "code",
      "metadata": {
        "id": "jtWTx8hC2dyM"
      },
      "source": [
        "#!pip install pillow \n",
        "# Importing the PIL library\n",
        "from PIL import Image, ImageFont, ImageDraw"
      ],
      "execution_count": null,
      "outputs": []
    },
    {
      "cell_type": "code",
      "metadata": {
        "id": "ynR2Ez071cGv"
      },
      "source": [
        "def printP():\n",
        "    # Use a breakpoint in the code line below to debug your script.\n",
        "    img = Image.open(\"border.png\")\n",
        "    title_font = ImageFont.truetype('PlayfairDisplay-Regular.ttf', 200)\n",
        "    title_text = \"A very long sentence\"\n",
        "    image_editable = ImageDraw.Draw(img)\n",
        "    # Add Text to an image\n",
        "    image_editable.text((10, 10), title_text, (000, 000, 000), font=title_font)\n",
        "    # Display edited image\n",
        "    img.show()\n",
        "    # Save the edited image\n",
        "    img.save(\"result.png\")\n",
        "\n",
        "printP()\n",
        "# Press the green button in the gutter to run the script.\n",
        "#if __name__ == '__main__':\n",
        "#    printP()\n",
        "    # printL()\n"
      ],
      "execution_count": null,
      "outputs": []
    },
    {
      "cell_type": "markdown",
      "metadata": {
        "id": "lhx_8z4i5X_Z"
      },
      "source": [
        "https://itnext.io/how-to-wrap-text-on-image-using-python-8f569860f89e\n"
      ]
    }
  ]
}